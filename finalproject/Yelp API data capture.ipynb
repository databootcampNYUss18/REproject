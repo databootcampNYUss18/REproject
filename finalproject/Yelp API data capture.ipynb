{
 "cells": [
  {
   "cell_type": "code",
   "execution_count": 1,
   "metadata": {
    "collapsed": true
   },
   "outputs": [],
   "source": [
    "import pandas as pd\n",
    "\n",
    "#source for library used to connect to API\n",
    "#https://github.com/Yelp/yelp-fusion/blob/master/fusion/python/sample.py\n",
    "\n",
    "####DON'T DELETE ANYTHING BETWEEN THESE LINES####\n",
    "\n",
    "from yelpapi import YelpAPI\n",
    "api_key = 'r843qqwPEUTKSs9Wsnm7P_KakM9j-QwcflDEditah21NrknHU8O6F2I4JWvpDPYW1lQ7p2cR_WpvqkS12gByFcXxpdhaS8d8sc38UuRDXrWrmP-mJuFdxG9dHZTTWnYx'\n",
    "yelp_api = YelpAPI(api_key)\n",
    "\n",
    "####DON'T DELETE ANYTHING BETWEEN THESE LINES####"
   ]
  },
  {
   "cell_type": "code",
   "execution_count": 106,
   "metadata": {
    "collapsed": true
   },
   "outputs": [],
   "source": [
    "newList = []\n",
    "\n",
    "cats_list = ['active', 'arts', 'auto', 'beautysvc', 'bicycles', 'education', 'eventservices', 'financialservices', \n",
    "            'food', 'health', 'homeservices', 'hotelstravel', 'localflavor', 'localservices', 'massmedia',\n",
    "            'nightlife', 'pets', 'professional', 'publicservicesgovt', 'realestate', 'religiousorgs', 'restaurants',\n",
    "            'shopping']"
   ]
  },
  {
   "cell_type": "code",
   "execution_count": 107,
   "metadata": {},
   "outputs": [
    {
     "data": {
      "text/plain": [
       "2"
      ]
     },
     "execution_count": 107,
     "metadata": {},
     "output_type": "execute_result"
    }
   ],
   "source": [
    "#test code\n",
    "\n",
    "myZIP = 11436\n",
    "\n",
    "offsetter = 0\n",
    "\n",
    "#List Zero - Active\n",
    "for i in range(20):\n",
    "\n",
    "    search_results = yelp_api.search_query(location=myZIP,limit=50, offset=offsetter, categories=cats_list[0])\n",
    "\n",
    "    biz_results = search_results['businesses']\n",
    "\n",
    "    for b in biz_results:\n",
    "        newList.append(b)\n",
    "\n",
    "    offsetter = offsetter + 50\n",
    "    \n",
    "len(newList)"
   ]
  },
  {
   "cell_type": "code",
   "execution_count": 108,
   "metadata": {},
   "outputs": [
    {
     "data": {
      "text/plain": [
       "107"
      ]
     },
     "execution_count": 108,
     "metadata": {},
     "output_type": "execute_result"
    }
   ],
   "source": [
    "#List One - Arts\n",
    "\n",
    "offsetter = 0\n",
    "\n",
    "for i in range(20):\n",
    "\n",
    "    search_results = yelp_api.search_query(location=myZIP,limit=50, offset=offsetter, categories=cats_list[1])\n",
    "\n",
    "    biz_results = search_results['businesses']\n",
    "\n",
    "    for b in biz_results:\n",
    "        newList.append(b)\n",
    "\n",
    "    offsetter = offsetter + 50\n",
    "    \n",
    "len(newList)"
   ]
  },
  {
   "cell_type": "code",
   "execution_count": 109,
   "metadata": {},
   "outputs": [
    {
     "data": {
      "text/plain": [
       "111"
      ]
     },
     "execution_count": 109,
     "metadata": {},
     "output_type": "execute_result"
    }
   ],
   "source": [
    "#List Two\n",
    "\n",
    "offsetter = 0\n",
    "\n",
    "for i in range(20):\n",
    "\n",
    "    search_results = yelp_api.search_query(location=myZIP,limit=50, offset=offsetter, categories=cats_list[2])\n",
    "\n",
    "    biz_results = search_results['businesses']\n",
    "\n",
    "    for b in biz_results:\n",
    "        newList.append(b)\n",
    "\n",
    "    offsetter = offsetter + 50\n",
    "    \n",
    "len(newList)"
   ]
  },
  {
   "cell_type": "code",
   "execution_count": 110,
   "metadata": {},
   "outputs": [
    {
     "data": {
      "text/plain": [
       "115"
      ]
     },
     "execution_count": 110,
     "metadata": {},
     "output_type": "execute_result"
    }
   ],
   "source": [
    "#List Three\n",
    "\n",
    "offsetter = 0\n",
    "\n",
    "for i in range(20):\n",
    "\n",
    "    search_results = yelp_api.search_query(location=myZIP,limit=50, offset=offsetter, categories=cats_list[3])\n",
    "\n",
    "    biz_results = search_results['businesses']\n",
    "\n",
    "    for b in biz_results:\n",
    "        newList.append(b)\n",
    "\n",
    "    offsetter = offsetter + 50\n",
    "    \n",
    "len(newList)"
   ]
  },
  {
   "cell_type": "code",
   "execution_count": 111,
   "metadata": {},
   "outputs": [
    {
     "data": {
      "text/plain": [
       "115"
      ]
     },
     "execution_count": 111,
     "metadata": {},
     "output_type": "execute_result"
    }
   ],
   "source": [
    "#List Four\n",
    "\n",
    "offsetter = 0\n",
    "\n",
    "for i in range(20):\n",
    "\n",
    "    search_results = yelp_api.search_query(location=myZIP,limit=50, offset=offsetter, categories=cats_list[4])\n",
    "\n",
    "    biz_results = search_results['businesses']\n",
    "\n",
    "    for b in biz_results:\n",
    "        newList.append(b)\n",
    "\n",
    "    offsetter = offsetter + 50\n",
    "    \n",
    "len(newList)"
   ]
  },
  {
   "cell_type": "code",
   "execution_count": 112,
   "metadata": {},
   "outputs": [
    {
     "data": {
      "text/plain": [
       "115"
      ]
     },
     "execution_count": 112,
     "metadata": {},
     "output_type": "execute_result"
    }
   ],
   "source": [
    "#List Five\n",
    "\n",
    "offsetter = 0\n",
    "\n",
    "for i in range(20):\n",
    "\n",
    "    search_results = yelp_api.search_query(location=myZIP,limit=50, offset=offsetter, categories=cats_list[5])\n",
    "\n",
    "    biz_results = search_results['businesses']\n",
    "\n",
    "    for b in biz_results:\n",
    "        newList.append(b)\n",
    "\n",
    "    offsetter = offsetter + 50\n",
    "    \n",
    "len(newList)"
   ]
  },
  {
   "cell_type": "code",
   "execution_count": 113,
   "metadata": {},
   "outputs": [
    {
     "data": {
      "text/plain": [
       "121"
      ]
     },
     "execution_count": 113,
     "metadata": {},
     "output_type": "execute_result"
    }
   ],
   "source": [
    "#List Six\n",
    "\n",
    "offsetter = 0\n",
    "\n",
    "for i in range(20):\n",
    "\n",
    "    search_results = yelp_api.search_query(location=myZIP,limit=50, offset=offsetter, categories=cats_list[6])\n",
    "\n",
    "    biz_results = search_results['businesses']\n",
    "\n",
    "    for b in biz_results:\n",
    "        newList.append(b)\n",
    "\n",
    "    offsetter = offsetter + 50\n",
    "    \n",
    "len(newList)"
   ]
  },
  {
   "cell_type": "code",
   "execution_count": 114,
   "metadata": {},
   "outputs": [
    {
     "data": {
      "text/plain": [
       "123"
      ]
     },
     "execution_count": 114,
     "metadata": {},
     "output_type": "execute_result"
    }
   ],
   "source": [
    "#List Seven\n",
    "\n",
    "offsetter = 0\n",
    "\n",
    "for i in range(20):\n",
    "\n",
    "    search_results = yelp_api.search_query(location=myZIP,limit=50, offset=offsetter, categories=cats_list[7])\n",
    "\n",
    "    biz_results = search_results['businesses']\n",
    "\n",
    "    for b in biz_results:\n",
    "        newList.append(b)\n",
    "\n",
    "    offsetter = offsetter + 50\n",
    "    \n",
    "len(newList)"
   ]
  },
  {
   "cell_type": "code",
   "execution_count": 115,
   "metadata": {},
   "outputs": [
    {
     "data": {
      "text/plain": [
       "128"
      ]
     },
     "execution_count": 115,
     "metadata": {},
     "output_type": "execute_result"
    }
   ],
   "source": [
    "#List Eight\n",
    "\n",
    "offsetter = 0\n",
    "\n",
    "for i in range(20):\n",
    "\n",
    "    search_results = yelp_api.search_query(location=myZIP,limit=50, offset=offsetter, categories=cats_list[8])\n",
    "\n",
    "    biz_results = search_results['businesses']\n",
    "\n",
    "    for b in biz_results:\n",
    "        newList.append(b)\n",
    "\n",
    "    offsetter = offsetter + 50\n",
    "    \n",
    "len(newList)"
   ]
  },
  {
   "cell_type": "code",
   "execution_count": 116,
   "metadata": {},
   "outputs": [
    {
     "data": {
      "text/plain": [
       "132"
      ]
     },
     "execution_count": 116,
     "metadata": {},
     "output_type": "execute_result"
    }
   ],
   "source": [
    "#List Nine\n",
    "\n",
    "offsetter = 0\n",
    "\n",
    "for i in range(20):\n",
    "\n",
    "    search_results = yelp_api.search_query(location=myZIP,limit=50, offset=offsetter, categories=cats_list[9])\n",
    "\n",
    "    biz_results = search_results['businesses']\n",
    "\n",
    "    for b in biz_results:\n",
    "        newList.append(b)\n",
    "\n",
    "    offsetter = offsetter + 50\n",
    "    \n",
    "len(newList)"
   ]
  },
  {
   "cell_type": "code",
   "execution_count": 117,
   "metadata": {},
   "outputs": [
    {
     "data": {
      "text/plain": [
       "139"
      ]
     },
     "execution_count": 117,
     "metadata": {},
     "output_type": "execute_result"
    }
   ],
   "source": [
    "#List Ten\n",
    "\n",
    "offsetter = 0\n",
    "\n",
    "for i in range(20):\n",
    "\n",
    "    search_results = yelp_api.search_query(location=myZIP,limit=50, offset=offsetter, categories=cats_list[10])\n",
    "\n",
    "    biz_results = search_results['businesses']\n",
    "\n",
    "    for b in biz_results:\n",
    "        newList.append(b)\n",
    "\n",
    "    offsetter = offsetter + 50\n",
    "    \n",
    "len(newList)"
   ]
  },
  {
   "cell_type": "code",
   "execution_count": 118,
   "metadata": {},
   "outputs": [
    {
     "data": {
      "text/plain": [
       "146"
      ]
     },
     "execution_count": 118,
     "metadata": {},
     "output_type": "execute_result"
    }
   ],
   "source": [
    "#List Eleven\n",
    "\n",
    "offsetter = 0\n",
    "\n",
    "for i in range(20):\n",
    "\n",
    "    search_results = yelp_api.search_query(location=myZIP,limit=50, offset=offsetter, categories=cats_list[11])\n",
    "\n",
    "    biz_results = search_results['businesses']\n",
    "\n",
    "    for b in biz_results:\n",
    "        newList.append(b)\n",
    "\n",
    "    offsetter = offsetter + 50\n",
    "    \n",
    "len(newList)"
   ]
  },
  {
   "cell_type": "code",
   "execution_count": 119,
   "metadata": {},
   "outputs": [
    {
     "data": {
      "text/plain": [
       "151"
      ]
     },
     "execution_count": 119,
     "metadata": {},
     "output_type": "execute_result"
    }
   ],
   "source": [
    "#List Twelve\n",
    "\n",
    "offsetter = 0\n",
    "\n",
    "for i in range(20):\n",
    "\n",
    "    search_results = yelp_api.search_query(location=myZIP,limit=50, offset=offsetter, categories=cats_list[12])\n",
    "\n",
    "    biz_results = search_results['businesses']\n",
    "\n",
    "    for b in biz_results:\n",
    "        newList.append(b)\n",
    "\n",
    "    offsetter = offsetter + 50\n",
    "    \n",
    "len(newList)"
   ]
  },
  {
   "cell_type": "code",
   "execution_count": 120,
   "metadata": {},
   "outputs": [
    {
     "data": {
      "text/plain": [
       "151"
      ]
     },
     "execution_count": 120,
     "metadata": {},
     "output_type": "execute_result"
    }
   ],
   "source": [
    "#List Thirteen\n",
    "\n",
    "offsetter = 0\n",
    "\n",
    "for i in range(20):\n",
    "\n",
    "    search_results = yelp_api.search_query(location=myZIP,limit=50, offset=offsetter, categories=cats_list[13])\n",
    "\n",
    "    biz_results = search_results['businesses']\n",
    "\n",
    "    for b in biz_results:\n",
    "        newList.append(b)\n",
    "\n",
    "    offsetter = offsetter + 50\n",
    "    \n",
    "len(newList)"
   ]
  },
  {
   "cell_type": "code",
   "execution_count": 121,
   "metadata": {},
   "outputs": [
    {
     "data": {
      "text/plain": [
       "153"
      ]
     },
     "execution_count": 121,
     "metadata": {},
     "output_type": "execute_result"
    }
   ],
   "source": [
    "#List Fourteen\n",
    "\n",
    "offsetter = 0\n",
    "\n",
    "for i in range(20):\n",
    "\n",
    "    search_results = yelp_api.search_query(location=myZIP,limit=50, offset=offsetter, categories=cats_list[14])\n",
    "\n",
    "    biz_results = search_results['businesses']\n",
    "\n",
    "    for b in biz_results:\n",
    "        newList.append(b)\n",
    "\n",
    "    offsetter = offsetter + 50\n",
    "    \n",
    "len(newList)"
   ]
  },
  {
   "cell_type": "code",
   "execution_count": 122,
   "metadata": {},
   "outputs": [
    {
     "data": {
      "text/plain": [
       "173"
      ]
     },
     "execution_count": 122,
     "metadata": {},
     "output_type": "execute_result"
    }
   ],
   "source": [
    "#List Fifteen\n",
    "\n",
    "offsetter = 0\n",
    "\n",
    "for i in range(20):\n",
    "\n",
    "    search_results = yelp_api.search_query(location=myZIP,limit=50, offset=offsetter, categories=cats_list[15])\n",
    "\n",
    "    biz_results = search_results['businesses']\n",
    "\n",
    "    for b in biz_results:\n",
    "        newList.append(b)\n",
    "\n",
    "    offsetter = offsetter + 50\n",
    "    \n",
    "len(newList)"
   ]
  },
  {
   "cell_type": "code",
   "execution_count": 123,
   "metadata": {},
   "outputs": [
    {
     "data": {
      "text/plain": [
       "271"
      ]
     },
     "execution_count": 123,
     "metadata": {},
     "output_type": "execute_result"
    }
   ],
   "source": [
    "#List Sixteen\n",
    "\n",
    "offsetter = 0\n",
    "\n",
    "for i in range(20):\n",
    "\n",
    "    search_results = yelp_api.search_query(location=myZIP,limit=50, offset=offsetter, categories=cats_list[16])\n",
    "\n",
    "    biz_results = search_results['businesses']\n",
    "\n",
    "    for b in biz_results:\n",
    "        newList.append(b)\n",
    "\n",
    "    offsetter = offsetter + 50\n",
    "    \n",
    "len(newList)"
   ]
  },
  {
   "cell_type": "code",
   "execution_count": 124,
   "metadata": {},
   "outputs": [
    {
     "data": {
      "text/plain": [
       "272"
      ]
     },
     "execution_count": 124,
     "metadata": {},
     "output_type": "execute_result"
    }
   ],
   "source": [
    "#List Seventeen\n",
    "\n",
    "offsetter = 0\n",
    "\n",
    "for i in range(20):\n",
    "\n",
    "    search_results = yelp_api.search_query(location=myZIP,limit=50, offset=offsetter, categories=cats_list[17])\n",
    "\n",
    "    biz_results = search_results['businesses']\n",
    "\n",
    "    for b in biz_results:\n",
    "        newList.append(b)\n",
    "\n",
    "    offsetter = offsetter + 50\n",
    "    \n",
    "len(newList)"
   ]
  },
  {
   "cell_type": "code",
   "execution_count": 125,
   "metadata": {},
   "outputs": [
    {
     "data": {
      "text/plain": [
       "285"
      ]
     },
     "execution_count": 125,
     "metadata": {},
     "output_type": "execute_result"
    }
   ],
   "source": [
    "#List Eighteen\n",
    "\n",
    "offsetter = 0\n",
    "\n",
    "for i in range(20):\n",
    "\n",
    "    search_results = yelp_api.search_query(location=myZIP,limit=50, offset=offsetter, categories=cats_list[18])\n",
    "\n",
    "    biz_results = search_results['businesses']\n",
    "\n",
    "    for b in biz_results:\n",
    "        newList.append(b)\n",
    "\n",
    "    offsetter = offsetter + 50\n",
    "    \n",
    "len(newList)"
   ]
  },
  {
   "cell_type": "code",
   "execution_count": 126,
   "metadata": {},
   "outputs": [
    {
     "data": {
      "text/plain": [
       "285"
      ]
     },
     "execution_count": 126,
     "metadata": {},
     "output_type": "execute_result"
    }
   ],
   "source": [
    "#List Nineteen\n",
    "\n",
    "offsetter = 0\n",
    "\n",
    "for i in range(20):\n",
    "\n",
    "    search_results = yelp_api.search_query(location=myZIP,limit=50, offset=offsetter, categories=cats_list[19])\n",
    "\n",
    "    biz_results = search_results['businesses']\n",
    "\n",
    "    for b in biz_results:\n",
    "        newList.append(b)\n",
    "\n",
    "    offsetter = offsetter + 50\n",
    "    \n",
    "len(newList)"
   ]
  },
  {
   "cell_type": "code",
   "execution_count": 127,
   "metadata": {},
   "outputs": [
    {
     "data": {
      "text/plain": [
       "287"
      ]
     },
     "execution_count": 127,
     "metadata": {},
     "output_type": "execute_result"
    }
   ],
   "source": [
    "#List Twenty\n",
    "\n",
    "offsetter = 0\n",
    "\n",
    "for i in range(20):\n",
    "\n",
    "    search_results = yelp_api.search_query(location=myZIP,limit=50, offset=offsetter, categories=cats_list[20])\n",
    "\n",
    "    biz_results = search_results['businesses']\n",
    "\n",
    "    for b in biz_results:\n",
    "        newList.append(b)\n",
    "\n",
    "    offsetter = offsetter + 50\n",
    "    \n",
    "len(newList)"
   ]
  },
  {
   "cell_type": "code",
   "execution_count": 128,
   "metadata": {},
   "outputs": [
    {
     "data": {
      "text/plain": [
       "303"
      ]
     },
     "execution_count": 128,
     "metadata": {},
     "output_type": "execute_result"
    }
   ],
   "source": [
    "#List Twenty One\n",
    "\n",
    "offsetter = 0\n",
    "\n",
    "for i in range(20):\n",
    "\n",
    "    search_results = yelp_api.search_query(location=myZIP,limit=50, offset=offsetter, categories=cats_list[21])\n",
    "\n",
    "    biz_results = search_results['businesses']\n",
    "\n",
    "    for b in biz_results:\n",
    "        newList.append(b)\n",
    "\n",
    "    offsetter = offsetter + 50\n",
    "    \n",
    "len(newList)"
   ]
  },
  {
   "cell_type": "code",
   "execution_count": 129,
   "metadata": {},
   "outputs": [
    {
     "data": {
      "text/plain": [
       "305"
      ]
     },
     "execution_count": 129,
     "metadata": {},
     "output_type": "execute_result"
    }
   ],
   "source": [
    "#List Twenty-Two\n",
    "\n",
    "offsetter = 0\n",
    "\n",
    "for i in range(20):\n",
    "\n",
    "    search_results = yelp_api.search_query(location=myZIP,limit=50, offset=offsetter, categories=cats_list[22])\n",
    "\n",
    "    biz_results = search_results['businesses']\n",
    "\n",
    "    for b in biz_results:\n",
    "        newList.append(b)\n",
    "\n",
    "    offsetter = offsetter + 50\n",
    "    \n",
    "len(newList)"
   ]
  },
  {
   "cell_type": "code",
   "execution_count": 130,
   "metadata": {},
   "outputs": [
    {
     "name": "stderr",
     "output_type": "stream",
     "text": [
      "/Users/petronia/anaconda3/lib/python3.6/site-packages/ipykernel_launcher.py:7: SettingWithCopyWarning: \n",
      "A value is trying to be set on a copy of a slice from a DataFrame.\n",
      "Try using .loc[row_indexer,col_indexer] = value instead\n",
      "\n",
      "See the caveats in the documentation: http://pandas.pydata.org/pandas-docs/stable/indexing.html#indexing-view-versus-copy\n",
      "  import sys\n",
      "/Users/petronia/anaconda3/lib/python3.6/site-packages/pandas/core/indexing.py:179: SettingWithCopyWarning: \n",
      "A value is trying to be set on a copy of a slice from a DataFrame\n",
      "\n",
      "See the caveats in the documentation: http://pandas.pydata.org/pandas-docs/stable/indexing.html#indexing-view-versus-copy\n",
      "  self._setitem_with_indexer(indexer, value)\n",
      "/Users/petronia/anaconda3/lib/python3.6/site-packages/ipykernel_launcher.py:13: SettingWithCopyWarning: \n",
      "A value is trying to be set on a copy of a slice from a DataFrame\n",
      "\n",
      "See the caveats in the documentation: http://pandas.pydata.org/pandas-docs/stable/indexing.html#indexing-view-versus-copy\n",
      "  del sys.path[0]\n"
     ]
    },
    {
     "data": {
      "text/html": [
       "<div>\n",
       "<style>\n",
       "    .dataframe thead tr:only-child th {\n",
       "        text-align: right;\n",
       "    }\n",
       "\n",
       "    .dataframe thead th {\n",
       "        text-align: left;\n",
       "    }\n",
       "\n",
       "    .dataframe tbody tr th {\n",
       "        vertical-align: top;\n",
       "    }\n",
       "</style>\n",
       "<table border=\"1\" class=\"dataframe\">\n",
       "  <thead>\n",
       "    <tr style=\"text-align: right;\">\n",
       "      <th></th>\n",
       "      <th>is_closed</th>\n",
       "      <th>name</th>\n",
       "      <th>price</th>\n",
       "      <th>rating</th>\n",
       "      <th>review_count</th>\n",
       "      <th>id</th>\n",
       "      <th>alias_list</th>\n",
       "      <th>ZIP_code</th>\n",
       "    </tr>\n",
       "  </thead>\n",
       "  <tbody>\n",
       "    <tr>\n",
       "      <th>0</th>\n",
       "      <td>False</td>\n",
       "      <td>Baisley Park</td>\n",
       "      <td>NaN</td>\n",
       "      <td>4.0</td>\n",
       "      <td>12</td>\n",
       "      <td>KOuPJ-goMOQhwU31otedAg</td>\n",
       "      <td>[parks]</td>\n",
       "      <td>11436</td>\n",
       "    </tr>\n",
       "    <tr>\n",
       "      <th>1</th>\n",
       "      <td>False</td>\n",
       "      <td>Kyokushin Karate - Saikyo Dojo</td>\n",
       "      <td>NaN</td>\n",
       "      <td>5.0</td>\n",
       "      <td>1</td>\n",
       "      <td>i7bVDS9iwqVM4Kd78VhIGA</td>\n",
       "      <td>[karate]</td>\n",
       "      <td>11436</td>\n",
       "    </tr>\n",
       "    <tr>\n",
       "      <th>2</th>\n",
       "      <td>False</td>\n",
       "      <td>9/11 Tribute Museum</td>\n",
       "      <td>NaN</td>\n",
       "      <td>4.5</td>\n",
       "      <td>163</td>\n",
       "      <td>F0EUMg7UwxLCQ0GFpX0dyg</td>\n",
       "      <td>[museums, walkingtours, nonprofit]</td>\n",
       "      <td>11436</td>\n",
       "    </tr>\n",
       "    <tr>\n",
       "      <th>3</th>\n",
       "      <td>False</td>\n",
       "      <td>The Artful Bachelorette</td>\n",
       "      <td>NaN</td>\n",
       "      <td>5.0</td>\n",
       "      <td>74</td>\n",
       "      <td>wViL44th02eQxqHx2kFCOA</td>\n",
       "      <td>[eventplanning, artclasses, paintandsip]</td>\n",
       "      <td>11436</td>\n",
       "    </tr>\n",
       "    <tr>\n",
       "      <th>4</th>\n",
       "      <td>False</td>\n",
       "      <td>Aum Shanti Bookshop &amp; Crystal Gallery</td>\n",
       "      <td>$$</td>\n",
       "      <td>5.0</td>\n",
       "      <td>47</td>\n",
       "      <td>tli8xfkgW_9IAEh_Lt24PA</td>\n",
       "      <td>[psychic_astrology, spiritual_shop]</td>\n",
       "      <td>11436</td>\n",
       "    </tr>\n",
       "  </tbody>\n",
       "</table>\n",
       "</div>"
      ],
      "text/plain": [
       "   is_closed                                   name price  rating  \\\n",
       "0      False                           Baisley Park   NaN     4.0   \n",
       "1      False         Kyokushin Karate - Saikyo Dojo   NaN     5.0   \n",
       "2      False                    9/11 Tribute Museum   NaN     4.5   \n",
       "3      False                The Artful Bachelorette   NaN     5.0   \n",
       "4      False  Aum Shanti Bookshop & Crystal Gallery    $$     5.0   \n",
       "\n",
       "   review_count                      id  \\\n",
       "0            12  KOuPJ-goMOQhwU31otedAg   \n",
       "1             1  i7bVDS9iwqVM4Kd78VhIGA   \n",
       "2           163  F0EUMg7UwxLCQ0GFpX0dyg   \n",
       "3            74  wViL44th02eQxqHx2kFCOA   \n",
       "4            47  tli8xfkgW_9IAEh_Lt24PA   \n",
       "\n",
       "                                 alias_list  ZIP_code  \n",
       "0                                   [parks]     11436  \n",
       "1                                  [karate]     11436  \n",
       "2        [museums, walkingtours, nonprofit]     11436  \n",
       "3  [eventplanning, artclasses, paintandsip]     11436  \n",
       "4       [psychic_astrology, spiritual_shop]     11436  "
      ]
     },
     "execution_count": 130,
     "metadata": {},
     "output_type": "execute_result"
    }
   ],
   "source": [
    "#filter for relevant data and extract the category tags\n",
    "#this code will take time to run and throw errors, but it works\n",
    "\n",
    "Yelp_frame = pd.DataFrame(newList)\n",
    "Yelp_basics = Yelp_frame[['is_closed', 'name', 'price', 'rating', 'review_count', 'categories', 'id']]\n",
    "\n",
    "Yelp_basics['alias_list'] = \"\"\n",
    "for index, row in Yelp_basics.iterrows():\n",
    "    alias_list = []\n",
    "    for i in Yelp_basics['categories'].iloc[index]:\n",
    "        #print(biz_basics['name'].iloc[index]+ \"   \" + i['alias'])       \n",
    "        alias_list.append(i['alias'])\n",
    "    Yelp_basics['alias_list'].iloc[index] = alias_list\n",
    "    \n",
    "Yelp_final = Yelp_basics[['is_closed', 'name', 'price', 'rating', 'review_count', 'id', 'alias_list']]\n",
    "Yelp_final['ZIP_code'] = myZIP \n",
    "\n",
    "\n",
    "Yelp_final.head()"
   ]
  },
  {
   "cell_type": "code",
   "execution_count": 131,
   "metadata": {
    "collapsed": true
   },
   "outputs": [],
   "source": [
    "#write a CSV file containing the data\n",
    "\n",
    "ZIPstr = str(myZIP)\n",
    "\n",
    "Yelp_final.to_csv('/users/petronia/desktop/' + ZIPstr +'.csv', encoding='utf-8', index=False)"
   ]
  },
  {
   "cell_type": "code",
   "execution_count": 30,
   "metadata": {},
   "outputs": [
    {
     "data": {
      "text/plain": [
       "(1775, 8)"
      ]
     },
     "execution_count": 30,
     "metadata": {},
     "output_type": "execute_result"
    }
   ],
   "source": [
    "Yelp_final.shape"
   ]
  },
  {
   "cell_type": "code",
   "execution_count": null,
   "metadata": {
    "collapsed": true
   },
   "outputs": [],
   "source": []
  }
 ],
 "metadata": {
  "kernelspec": {
   "display_name": "Python 3",
   "language": "python",
   "name": "python3"
  },
  "language_info": {
   "codemirror_mode": {
    "name": "ipython",
    "version": 3
   },
   "file_extension": ".py",
   "mimetype": "text/x-python",
   "name": "python",
   "nbconvert_exporter": "python",
   "pygments_lexer": "ipython3",
   "version": "3.6.3"
  }
 },
 "nbformat": 4,
 "nbformat_minor": 2
}
